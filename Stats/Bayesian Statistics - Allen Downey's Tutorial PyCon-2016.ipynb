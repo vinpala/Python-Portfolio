{
 "cells": [
  {
   "cell_type": "markdown",
   "metadata": {},
   "source": [
    "# Bayesian Statistics made simple - Allen Downey Tutorial PyCon 2016 \n",
    "\n",
    "Vinitha Palani <br>\n",
    "August 1, 2017.\n",
    "\n",
    "This includes notes and my solutions for the exercises from this tutorial https://www.youtube.com/watch?v=TpgiFIGXcT4 "
   ]
  },
  {
   "cell_type": "code",
   "execution_count": 1,
   "metadata": {
    "collapsed": true
   },
   "outputs": [],
   "source": [
    "%matplotlib inline\n",
    "\n",
    "import warnings\n",
    "warnings.filterwarnings('ignore')\n",
    "\n",
    "import math\n",
    "import numpy as np\n",
    "from scipy.special import gamma"
   ]
  },
  {
   "cell_type": "markdown",
   "metadata": {},
   "source": [
    "From wikipedia \n",
    "\n",
    "A probability mass function (pmf) is a function that gives the probability that a discrete random variable is exactly equal to some value.( Discrete random variable --> A person's no. of offsprings --> PMF ; Continuous random variable --> A person's height --> PDF) <br>\n",
    "\n",
    "Warm-up -"
   ]
  },
  {
   "cell_type": "code",
   "execution_count": 2,
   "metadata": {
    "collapsed": true
   },
   "outputs": [],
   "source": [
    "# A Pmf is a map from possible outcomes to their probabilities(normalized)\n",
    "# Roll of a six-sided fair dice\n",
    "pmf = {}\n",
    "for x in [1,2,3,4,5,6]:\n",
    "    pmf[x] = 1/6"
   ]
  },
  {
   "cell_type": "code",
   "execution_count": 3,
   "metadata": {
    "collapsed": false
   },
   "outputs": [
    {
     "data": {
      "text/plain": [
       "{1: 0.16666666666666666,\n",
       " 2: 0.16666666666666666,\n",
       " 3: 0.16666666666666666,\n",
       " 4: 0.16666666666666666,\n",
       " 5: 0.16666666666666666,\n",
       " 6: 0.16666666666666666}"
      ]
     },
     "execution_count": 3,
     "metadata": {},
     "output_type": "execute_result"
    }
   ],
   "source": [
    "pmf"
   ]
  },
  {
   "cell_type": "code",
   "execution_count": 8,
   "metadata": {
    "collapsed": false
   },
   "outputs": [
    {
     "data": {
      "text/plain": [
       "0.9999999999999999"
      ]
     },
     "execution_count": 8,
     "metadata": {},
     "output_type": "execute_result"
    }
   ],
   "source": [
    "sum(pmf.values()) "
   ]
  },
  {
   "cell_type": "code",
   "execution_count": 21,
   "metadata": {
    "collapsed": false
   },
   "outputs": [
    {
     "data": {
      "text/plain": [
       "3.5"
      ]
     },
     "execution_count": 21,
     "metadata": {},
     "output_type": "execute_result"
    }
   ],
   "source": [
    "# mean of the possible outcomes \n",
    "sum(pmf.keys())/len(list(pmf.values()))"
   ]
  },
  {
   "cell_type": "code",
   "execution_count": 4,
   "metadata": {
    "collapsed": false
   },
   "outputs": [],
   "source": [
    "import matplotlib.pyplot as plt"
   ]
  },
  {
   "cell_type": "code",
   "execution_count": 30,
   "metadata": {
    "collapsed": false
   },
   "outputs": [
    {
     "data": {
      "text/plain": [
       "<Container object of 6 artists>"
      ]
     },
     "execution_count": 30,
     "metadata": {},
     "output_type": "execute_result"
    },
    {
     "data": {
      "image/png": "[encoded data removed]",
      "text/plain": [
       "<matplotlib.figure.Figure at 0x132128e85f8>"
      ]
     },
     "metadata": {},
     "output_type": "display_data"
    }
   ],
   "source": [
    "plt.bar(list(pmf.keys()), list(pmf.values()))"
   ]
  },
  {
   "cell_type": "markdown",
   "metadata": {},
   "source": [
    "<b>Exercise 1: </b>\n",
    "Compute and plot the Pmf of the sum of two 6-sided dice."
   ]
  },
  {
   "cell_type": "code",
   "execution_count": 38,
   "metadata": {
    "collapsed": false
   },
   "outputs": [],
   "source": [
    "pmf_second = {}\n",
    "for x in [1,2,3,4,5,6]:\n",
    "    pmf_second[x] = 1/6\n",
    "\n",
    "from collections import defaultdict\n",
    "\n",
    "pmf_combine = defaultdict(float)\n",
    "for v1, p1 in pmf.items():\n",
    "    for v2, p2 in pmf_second.items():\n",
    "        pmf_combine[v1 + v2] += p1 * p2       "
   ]
  },
  {
   "cell_type": "code",
   "execution_count": 39,
   "metadata": {
    "collapsed": false
   },
   "outputs": [
    {
     "data": {
      "text/plain": [
       "defaultdict(float,\n",
       "            {2: 0.027777777777777776,\n",
       "             3: 0.05555555555555555,\n",
       "             4: 0.08333333333333333,\n",
       "             5: 0.1111111111111111,\n",
       "             6: 0.1388888888888889,\n",
       "             7: 0.16666666666666669,\n",
       "             8: 0.1388888888888889,\n",
       "             9: 0.1111111111111111,\n",
       "             10: 0.08333333333333333,\n",
       "             11: 0.05555555555555555,\n",
       "             12: 0.027777777777777776})"
      ]
     },
     "execution_count": 39,
     "metadata": {},
     "output_type": "execute_result"
    }
   ],
   "source": [
    "pmf_combine"
   ]
  },
  {
   "cell_type": "code",
   "execution_count": 40,
   "metadata": {
    "collapsed": false
   },
   "outputs": [
    {
     "data": {
      "text/plain": [
       "<Container object of 11 artists>"
      ]
     },
     "execution_count": 40,
     "metadata": {},
     "output_type": "execute_result"
    },
    {
     "data": {
      "image/png": "[encoded data removed]",
      "text/plain": [
       "<matplotlib.figure.Figure at 0x1321296b3c8>"
      ]
     },
     "metadata": {},
     "output_type": "display_data"
    }
   ],
   "source": [
    "plt.bar(list(pmf_combine.keys()), list(pmf_combine.values()))"
   ]
  },
  {
   "cell_type": "markdown",
   "metadata": {},
   "source": [
    "<b>Exercise 2:</b> Suppose I roll two dice and tell you the result is greater than 3.\n",
    "Plot the Pmf of the remaining possible outcomes and compute its mean."
   ]
  },
  {
   "cell_type": "code",
   "execution_count": 52,
   "metadata": {
    "collapsed": false
   },
   "outputs": [],
   "source": [
    "pmf_total_gt3 = dict([(key,value) for key,value in pmf_combine.items() if key > 3]) "
   ]
  },
  {
   "cell_type": "code",
   "execution_count": 53,
   "metadata": {
    "collapsed": false
   },
   "outputs": [
    {
     "data": {
      "text/plain": [
       "{4: 0.08333333333333333,\n",
       " 5: 0.1111111111111111,\n",
       " 6: 0.1388888888888889,\n",
       " 7: 0.16666666666666669,\n",
       " 8: 0.1388888888888889,\n",
       " 9: 0.1111111111111111,\n",
       " 10: 0.08333333333333333,\n",
       " 11: 0.05555555555555555,\n",
       " 12: 0.027777777777777776}"
      ]
     },
     "execution_count": 53,
     "metadata": {},
     "output_type": "execute_result"
    }
   ],
   "source": [
    "pmf_total_gt3"
   ]
  },
  {
   "cell_type": "code",
   "execution_count": 54,
   "metadata": {
    "collapsed": false,
    "scrolled": true
   },
   "outputs": [
    {
     "data": {
      "text/plain": [
       "<Container object of 9 artists>"
      ]
     },
     "execution_count": 54,
     "metadata": {},
     "output_type": "execute_result"
    },
    {
     "data": {
      "image/png": "[encoded data removed]",
      "text/plain": [
       "<matplotlib.figure.Figure at 0x132118c6940>"
      ]
     },
     "metadata": {},
     "output_type": "display_data"
    }
   ],
   "source": [
    "plt.bar(list(pmf_total_gt3.keys()), list(pmf_total_gt3.values()))"
   ]
  },
  {
   "cell_type": "markdown",
   "metadata": {},
   "source": [
    "This is not quite correct..i have taken some probabilities away from this pmf and now the probabilities do not add up to 1 ..after removing two probabilities we have to normalize again."
   ]
  },
  {
   "cell_type": "code",
   "execution_count": 74,
   "metadata": {
    "collapsed": false
   },
   "outputs": [
    {
     "data": {
      "text/plain": [
       "1.0000000000000002"
      ]
     },
     "execution_count": 74,
     "metadata": {},
     "output_type": "execute_result"
    }
   ],
   "source": [
    "sum(pmf_combine.values())"
   ]
  },
  {
   "cell_type": "code",
   "execution_count": 75,
   "metadata": {
    "collapsed": false
   },
   "outputs": [
    {
     "data": {
      "text/plain": [
       "0.9166666666666667"
      ]
     },
     "execution_count": 75,
     "metadata": {},
     "output_type": "execute_result"
    }
   ],
   "source": [
    "sum(pmf_total_gt3.values())"
   ]
  },
  {
   "cell_type": "markdown",
   "metadata": {},
   "source": [
    "## The Cookie Problem"
   ]
  },
  {
   "cell_type": "markdown",
   "metadata": {},
   "source": [
    "#### Bayes Theorem - \n",
    "\n",
    "The theorem follows directly from writing the definition of conditional probability in two ways:\n",
    "\n",
    "$$\n",
    "p(H|D) = \\frac{p(D|H)p(H)}{p(D)}\n",
    "$$\n",
    "\n",
    "<b>Diachronic Interpretation :</b>\n",
    "\n",
    "Idea that when you get new data you change('update') your belief about the hypothesis.\n",
    "\n",
    "H : Hypothesis <br>\n",
    "D : Data <br>\n",
    "\n",
    "Given p(H) , the probability of the hypothesis <font color='red'> before </font> you saw the data.--prior <br> \n",
    "Given p(H|D) , the probability of the hypothesis <font color='red'>after</font> you saw the data.-- posterior<br>\n",
    "$$\n",
    "Posterior = \\frac{Likelihood\\ *\\ Prior}{Evidence}\n",
    "$$\n",
    "\n",
    "##### Cookie problem :\n",
    "Suppose there are 2 bowls of cookies -\n",
    "\n",
    "Bowl #1 has 10 chocholate and 30 vanilla.\n",
    "\n",
    "Bowl #2 has 20 of each.\n",
    "\n",
    "Fred picks a bowl at random and then picks a cookie at random. The cookie turns out to be vanilla.\n",
    "\n",
    "What is the probability that Fred picked from bowl #1 ?\n",
    "\n",
    "Answer : (one way to do this )\n",
    "\n",
    "H : Hypothesis that the cookie came from bowl1\n",
    "D : The cookie is vanilla\n",
    "\n",
    "p(H|D) = Posterior = ?\n",
    "\n",
    "p(D|H) = Conditional likelihood of data = <font color='red'>30/40 or 3/4</font>\n",
    "\n",
    "p(H) = Prior = <font color='red'>1/2</font>\n",
    "\n",
    "p(D) = Total probability of data(under any circumstance) = <font color='red'>50/80 or 5/8</font>\n",
    "This is a simple case so mentally combine the two bowls and conclude that 5/8 of the total no. is vanilla.\n",
    "\n",
    "p(H|D) = (p(D|H) * p(H))/p(D)\n",
    "\n",
    "       = (3/4 * 1/2) / (5/8) =  3/5\n",
    "       \n",
    "Little intuition :\n",
    "\n",
    "We started with a prior of 50% (1/2) chance of selecting bowl 1 we endesd up with a posterior of 60% so we are alittle bit more confident that it is bowl no.1 after seeing a vanilla cookie.\n",
    "\n",
    "<b>D was more likely under H.</b>Evidence in favor of the bowl 1 hypothesis\n",
    "\n",
    "<b>D increases our degree of belief in H.</b>\n",
    "\n",
    "Difference between probability and likelihood : probabilities are normalized they are all going to add up to 1 , Likelihood are not necessarily normalized they may not add up to 1 but they will be proportional to 1.\n",
    "\n",
    "PMF => a computational framework for doing the same thing.\n"
   ]
  },
  {
   "cell_type": "code",
   "execution_count": 14,
   "metadata": {
    "collapsed": true
   },
   "outputs": [],
   "source": [
    "#set priors\n",
    "cookie_pmf = {}\n",
    "for x in ['bowl1','bowl2']:\n",
    "    cookie_pmf[x] = 1/2"
   ]
  },
  {
   "cell_type": "code",
   "execution_count": 15,
   "metadata": {
    "collapsed": true
   },
   "outputs": [],
   "source": [
    "#Update each hypothesis with the likelihood of the data (a vanilla cookie).\n",
    "cookie_pmf['bowl1'] *= 3/4\n",
    "cookie_pmf['bowl2'] *= 1/2"
   ]
  },
  {
   "cell_type": "code",
   "execution_count": 16,
   "metadata": {
    "collapsed": false
   },
   "outputs": [
    {
     "data": {
      "text/plain": [
       "{'bowl1': 0.375, 'bowl2': 0.25}"
      ]
     },
     "execution_count": 16,
     "metadata": {},
     "output_type": "execute_result"
    }
   ],
   "source": [
    "cookie_pmf"
   ]
  },
  {
   "cell_type": "code",
   "execution_count": 17,
   "metadata": {
    "collapsed": true
   },
   "outputs": [],
   "source": [
    "#normalize (divide by total probability of getting vanilla cookie,bowl1 or bowl 2)\n",
    "cookie_pmf['bowl1'] /= 5/8\n",
    "cookie_pmf['bowl2'] /= 5/8"
   ]
  },
  {
   "cell_type": "code",
   "execution_count": 18,
   "metadata": {
    "collapsed": false
   },
   "outputs": [
    {
     "data": {
      "text/plain": [
       "{'bowl1': 0.6, 'bowl2': 0.4}"
      ]
     },
     "execution_count": 18,
     "metadata": {},
     "output_type": "execute_result"
    }
   ],
   "source": [
    "cookie_pmf"
   ]
  },
  {
   "cell_type": "markdown",
   "metadata": {},
   "source": [
    "<b>Exercise 3: </b>Suppose we put the first cookie back, stir, choose again from the same bowl, and get a chocolate cookie."
   ]
  },
  {
   "cell_type": "code",
   "execution_count": 19,
   "metadata": {
    "collapsed": false
   },
   "outputs": [
    {
     "data": {
      "text/plain": [
       "{'bowl1': 0.6, 'bowl2': 0.4}"
      ]
     },
     "execution_count": 19,
     "metadata": {},
     "output_type": "execute_result"
    }
   ],
   "source": [
    "# The posterior (after the first cookie) becomes the prior (before the second cookie).\n",
    "# Prior\n",
    "cookie_pmf"
   ]
  },
  {
   "cell_type": "code",
   "execution_count": 20,
   "metadata": {
    "collapsed": true
   },
   "outputs": [],
   "source": [
    "#Update each hypothesis with the likelihood of the data (a chocolate cookie).\n",
    "cookie_pmf['bowl1'] *= 1/4\n",
    "cookie_pmf['bowl2'] *= 1/2"
   ]
  },
  {
   "cell_type": "code",
   "execution_count": 21,
   "metadata": {
    "collapsed": false
   },
   "outputs": [
    {
     "data": {
      "text/plain": [
       "{'bowl1': 0.15, 'bowl2': 0.2}"
      ]
     },
     "execution_count": 21,
     "metadata": {},
     "output_type": "execute_result"
    }
   ],
   "source": [
    "cookie_pmf"
   ]
  },
  {
   "cell_type": "code",
   "execution_count": 22,
   "metadata": {
    "collapsed": true
   },
   "outputs": [],
   "source": [
    "#normalize (divide by total probability of getting chocholate cookie,bowl1 or bowl 2)\n",
    "cookie_pmf['bowl1'] /= (0.15 + 0.2)\n",
    "cookie_pmf['bowl2'] /= (0.15 + 0.2)"
   ]
  },
  {
   "cell_type": "code",
   "execution_count": 23,
   "metadata": {
    "collapsed": false
   },
   "outputs": [
    {
     "data": {
      "text/plain": [
       "{'bowl1': 0.4285714285714286, 'bowl2': 0.5714285714285715}"
      ]
     },
     "execution_count": 23,
     "metadata": {},
     "output_type": "execute_result"
    }
   ],
   "source": [
    "cookie_pmf"
   ]
  },
  {
   "cell_type": "markdown",
   "metadata": {},
   "source": [
    "Every time you sees a new piece of data it chnages your opinion about what is going on by a lil bit. we started at 50/50 the we saw a vanilla cookie , vanilla cookie is more likely from bowl 1 that moved as in the direction of bowl one from 50 to 60. Now we see a chocholate cookie, you thought you know i thought it was bowl1 now i am beginning to doubt myself ; a chocholate cookie is a strong piece of evidence , a chocolate cookie is twice as likely to come from bowl 1 than from bowl 2 , it has tipped me all the way back from 50, past 50 to 42.This tipping back and forth will continue for a while until we get enough data to let us decide bowl 1 or bowl 2."
   ]
  },
  {
   "cell_type": "markdown",
   "metadata": {},
   "source": [
    "<b>Exercise 4:</b>Instead of doing two updates, what if we collapse the two pieces of data into one update?\n",
    "Re-initialize Pmf with two equally likely hypotheses and perform one update based on two pieces of data, a vanilla cookie and a chocolate cookie.\n",
    "The result should be the same regardless of how many updates you do (or the order of updates)."
   ]
  },
  {
   "cell_type": "code",
   "execution_count": 42,
   "metadata": {
    "collapsed": true
   },
   "outputs": [],
   "source": [
    "#set priors\n",
    "cookie_pmf = {}\n",
    "for x in ['bowl1','bowl2']:\n",
    "    cookie_pmf[x] = 1/2"
   ]
  },
  {
   "cell_type": "code",
   "execution_count": 43,
   "metadata": {
    "collapsed": false
   },
   "outputs": [],
   "source": [
    "#Update each hypothesis with the likelihood of the data (a chocolate cookie).\n",
    "cookie_pmf['bowl1'] *= 3/4 * 1/4\n",
    "cookie_pmf['bowl2'] *= 1/2 * 1/2"
   ]
  },
  {
   "cell_type": "code",
   "execution_count": 44,
   "metadata": {
    "collapsed": false
   },
   "outputs": [
    {
     "data": {
      "text/plain": [
       "{'bowl1': 0.09375, 'bowl2': 0.125}"
      ]
     },
     "execution_count": 44,
     "metadata": {},
     "output_type": "execute_result"
    }
   ],
   "source": [
    "cookie_pmf"
   ]
  },
  {
   "cell_type": "code",
   "execution_count": 45,
   "metadata": {
    "collapsed": true
   },
   "outputs": [],
   "source": [
    "tot_proba = cookie_pmf['bowl1'] + cookie_pmf['bowl2']"
   ]
  },
  {
   "cell_type": "code",
   "execution_count": 46,
   "metadata": {
    "collapsed": false
   },
   "outputs": [],
   "source": [
    "#normalize (divide by total probability of getting chocholate cookie,bowl1 or bowl 2)\n",
    "cookie_pmf['bowl1'] /= tot_proba\n",
    "cookie_pmf['bowl2'] /= tot_proba"
   ]
  },
  {
   "cell_type": "code",
   "execution_count": 47,
   "metadata": {
    "collapsed": false
   },
   "outputs": [
    {
     "data": {
      "text/plain": [
       "{'bowl1': 0.42857142857142855, 'bowl2': 0.5714285714285714}"
      ]
     },
     "execution_count": 47,
     "metadata": {},
     "output_type": "execute_result"
    }
   ],
   "source": [
    "cookie_pmf"
   ]
  },
  {
   "cell_type": "markdown",
   "metadata": {},
   "source": [
    "It doesnt matter what order you consider the data.If we are considering without replacemnet then we need to have a datstructure to figure out how many cookies are left in the bowls.If we do not replace the likelihoods change each time."
   ]
  },
  {
   "cell_type": "markdown",
   "metadata": {},
   "source": [
    "## The dice problem\n",
    "\n",
    "I have abox of dice that contains a 4-sided die , 6-sided die, an 8-sided die and a 12-sided die. Suppose I select a die from the box at random, roll it and get a 6. What is the probability that i rolled each die? \n",
    "\n",
    "Computaional frame work  :\n",
    "<b>A suite is a mutually exclusive and collectively exhaustive set of hypothesis.</b>\n",
    "Collecively exhaustive means one of them must be true..if all of the hypothesis are impossible then there is something wrong very with the assumptions.one could get away with this by including a catch-all, 'my-model-is-broken' hypothesis which will have a very low initial probability.<br>\n",
    "Represented by a Suite that maps hypothesis -> probability\n",
    "Dice is a--> Suite is a--> PMF is a--> dictionary\n",
    "Create a Suite to represent dice with different numbers of sides."
   ]
  },
  {
   "cell_type": "markdown",
   "metadata": {},
   "source": [
    "<b>Exercise 5 </b>We'll solve this problem two ways. First we'll do it \"by hand\", as we did with the cookie problem; that is, we'll multiply each hypothesis by the likelihood of the data, and the renormalize."
   ]
  },
  {
   "cell_type": "code",
   "execution_count": 48,
   "metadata": {
    "collapsed": true
   },
   "outputs": [],
   "source": [
    "#set priors\n",
    "dice_pmf = {}\n",
    "for x in ['4','6','8','12']:\n",
    "    dice_pmf[x] = 1/4"
   ]
  },
  {
   "cell_type": "code",
   "execution_count": 49,
   "metadata": {
    "collapsed": true
   },
   "outputs": [],
   "source": [
    "#Update each hypothesis with the likelihood of the data (getting a '6').\n",
    "dice_pmf['4'] *= 0\n",
    "dice_pmf['6'] *= 1/6\n",
    "dice_pmf['8'] *= 1/8\n",
    "dice_pmf['12'] *= 1/12"
   ]
  },
  {
   "cell_type": "code",
   "execution_count": 50,
   "metadata": {
    "collapsed": true
   },
   "outputs": [],
   "source": [
    "tot_proba = dice_pmf['4'] + dice_pmf['6'] + dice_pmf['8'] + dice_pmf['12']"
   ]
  },
  {
   "cell_type": "code",
   "execution_count": 51,
   "metadata": {
    "collapsed": true
   },
   "outputs": [],
   "source": [
    "#normalize (divide by total probability of getting a 6)\n",
    "dice_pmf['4'] /= tot_proba\n",
    "dice_pmf['6'] /= tot_proba\n",
    "dice_pmf['8'] /= tot_proba\n",
    "dice_pmf['12'] /= tot_proba"
   ]
  },
  {
   "cell_type": "code",
   "execution_count": 52,
   "metadata": {
    "collapsed": false
   },
   "outputs": [
    {
     "data": {
      "text/plain": [
       "{'12': 0.22222222222222224,\n",
       " '4': 0.0,\n",
       " '6': 0.4444444444444445,\n",
       " '8': 0.33333333333333337}"
      ]
     },
     "execution_count": 52,
     "metadata": {},
     "output_type": "execute_result"
    }
   ],
   "source": [
    "dice_pmf"
   ]
  },
  {
   "cell_type": "markdown",
   "metadata": {},
   "source": [
    "<b>Exercise 6 :</b>Write a definition for a new class called Dice. Then define a method called Likelihood that takes data and hypo and returns the probability of the data (the outcome of rolling the die) for a given hypothesis (number of sides on the die).\n",
    "Hint: What should you do if the outcome exceeds the hypothetical number of sides on the die?"
   ]
  },
  {
   "cell_type": "code",
   "execution_count": 79,
   "metadata": {
    "collapsed": false
   },
   "outputs": [],
   "source": [
    "class Dice():\n",
    "        # hypo is the number of sides on the die\n",
    "        # data is the outcome\n",
    "        \n",
    "        def __init__(self, hypo):\n",
    "            self.hypo_dic = {}\n",
    "            for x in hypo:\n",
    "               self.hypo_dic[x] = 1/4\n",
    "            return\n",
    "        \n",
    "        def Likelihood(self, data, hypo):\n",
    "            if data > hypo:\n",
    "                return 0\n",
    "            else:\n",
    "                return 1 / hypo\n",
    "            \n",
    "        def Update(self, data):\n",
    "            \n",
    "            for hypo,_ in self.hypo_dic.items():\n",
    "                like = self.Likelihood(data, hypo)\n",
    "                self.hypo_dic[hypo] *= like \n",
    "                \n",
    "            total_prob = sum(self.hypo_dic.values()) \n",
    "            \n",
    "            for hypo,_ in self.hypo_dic.items():\n",
    "                 self.hypo_dic[hypo] /= total_prob         \n",
    "            return self\n",
    "        \n",
    "        def Print(self):\n",
    "            for hypo,value in self.hypo_dic.items():\n",
    "                print(\"Hypothesis : \"+str(hypo)+\"  value : \",value)"
   ]
  },
  {
   "cell_type": "code",
   "execution_count": 75,
   "metadata": {
    "collapsed": false
   },
   "outputs": [],
   "source": [
    "dice = Dice([4,6,8,12])"
   ]
  },
  {
   "cell_type": "code",
   "execution_count": 76,
   "metadata": {
    "collapsed": false
   },
   "outputs": [
    {
     "name": "stdout",
     "output_type": "stream",
     "text": [
      "Hypothesis : 8  value :  0.25\n",
      "Hypothesis : 12  value :  0.25\n",
      "Hypothesis : 4  value :  0.25\n",
      "Hypothesis : 6  value :  0.25\n"
     ]
    }
   ],
   "source": [
    "dice.Print()"
   ]
  },
  {
   "cell_type": "code",
   "execution_count": 77,
   "metadata": {
    "collapsed": false
   },
   "outputs": [
    {
     "data": {
      "text/plain": [
       "<__main__.Dice at 0x23c84a870b8>"
      ]
     },
     "execution_count": 77,
     "metadata": {},
     "output_type": "execute_result"
    }
   ],
   "source": [
    "#data --> got a '6'\n",
    "dice.Update(6)"
   ]
  },
  {
   "cell_type": "code",
   "execution_count": 78,
   "metadata": {
    "collapsed": false
   },
   "outputs": [
    {
     "name": "stdout",
     "output_type": "stream",
     "text": [
      "Hypothesis : 8  value :  0.3333333333333333\n",
      "Hypothesis : 12  value :  0.2222222222222222\n",
      "Hypothesis : 4  value :  0.0\n",
      "Hypothesis : 6  value :  0.4444444444444444\n"
     ]
    }
   ],
   "source": [
    "dice.Print()"
   ]
  },
  {
   "cell_type": "code",
   "execution_count": 80,
   "metadata": {
    "collapsed": true
   },
   "outputs": [],
   "source": [
    "# more data \n",
    "for roll in [8, 7, 7, 5, 4]:\n",
    "    dice.Update(roll)"
   ]
  },
  {
   "cell_type": "code",
   "execution_count": 81,
   "metadata": {
    "collapsed": false
   },
   "outputs": [
    {
     "name": "stdout",
     "output_type": "stream",
     "text": [
      "Hypothesis : 8  value :  0.9192938209331653\n",
      "Hypothesis : 12  value :  0.0807061790668348\n",
      "Hypothesis : 4  value :  0.0\n",
      "Hypothesis : 6  value :  0.0\n"
     ]
    }
   ],
   "source": [
    "dice.Print()"
   ]
  },
  {
   "cell_type": "markdown",
   "metadata": {},
   "source": [
    "The 4-sided and 6-sided are ruled out as we got numbers greater than 6. The hypothesis that the dice is '8' sided has 91% , this is because we havent seen anything greater than 8, if it were the 12-sided dice then this would have been unlikely.That is what those posterior probabilities are telling us."
   ]
  },
  {
   "cell_type": "markdown",
   "metadata": {},
   "source": [
    "## German Tank problem\n",
    "World warII Germans manufactured tanks with the serial number on the chassis and wheel which were allocated in blocks of 100. But not all numbers upto 100 were used all the time, they wud start with a 1 and go upto however many tanks they produced. When a tank number with 37 is captured. How many numbers in the block were used(How many they made)? \n",
    "\n",
    "This is actually pretty much like the Dice problem .."
   ]
  },
  {
   "cell_type": "code",
   "execution_count": 128,
   "metadata": {
    "collapsed": false
   },
   "outputs": [],
   "source": [
    "class Tank():\n",
    "        # hypo is the number of tanks        \n",
    "        def __init__(self, hypo):\n",
    "            self.hypo_dic = {}\n",
    "            for x in hypo:\n",
    "               self.hypo_dic[x] = 1/100\n",
    "            return\n",
    "        \n",
    "        def Likelihood(self, data, hypo):\n",
    "            if data > hypo:\n",
    "                return 0\n",
    "            else:\n",
    "                return 1 / hypo\n",
    "            \n",
    "        def Update(self, data):\n",
    "            \n",
    "            for hypo,_ in self.hypo_dic.items():\n",
    "                like = self.Likelihood(data, hypo)\n",
    "                self.hypo_dic[hypo] *= like \n",
    "                \n",
    "            total_prob = sum(self.hypo_dic.values()) \n",
    "            \n",
    "            for hypo,_ in self.hypo_dic.items():\n",
    "                 self.hypo_dic[hypo] /= total_prob         \n",
    "            return self\n",
    "        \n",
    "        def Print(self):\n",
    "            for hypo,value in self.hypo_dic.items():\n",
    "                print(\"Hypothesis : \"+str(hypo)+\"  value : \",value)\n",
    "        \n",
    "        def pdf(self):\n",
    "            plt.plot(list(self.hypo_dic.keys()), list(self.hypo_dic.values()))\n",
    "        \n",
    "        def Mean(self):\n",
    "            return sum(p * x for x, p in self.hypo_dic.items())"
   ]
  },
  {
   "cell_type": "code",
   "execution_count": 107,
   "metadata": {
    "collapsed": true
   },
   "outputs": [],
   "source": [
    "tank = Tank(range(100))"
   ]
  },
  {
   "cell_type": "code",
   "execution_count": 108,
   "metadata": {
    "collapsed": false
   },
   "outputs": [
    {
     "data": {
      "text/plain": [
       "<__main__.Tank at 0x23c84dc01d0>"
      ]
     },
     "execution_count": 108,
     "metadata": {},
     "output_type": "execute_result"
    }
   ],
   "source": [
    "tank.Update(37)"
   ]
  },
  {
   "cell_type": "code",
   "execution_count": 109,
   "metadata": {
    "collapsed": false
   },
   "outputs": [
    {
     "data": {
      "text/plain": [
       "62.82294478516895"
      ]
     },
     "execution_count": 109,
     "metadata": {},
     "output_type": "execute_result"
    }
   ],
   "source": [
    "tank.Mean()"
   ]
  },
  {
   "cell_type": "code",
   "execution_count": 129,
   "metadata": {
    "collapsed": false
   },
   "outputs": [
    {
     "data": {
      "image/png": "[encoded data removed]",
      "text/plain": [
       "<matplotlib.figure.Figure at 0x23c85e33f60>"
      ]
     },
     "metadata": {},
     "output_type": "display_data"
    }
   ],
   "source": [
    "tank.pdf()"
   ]
  },
  {
   "cell_type": "markdown",
   "metadata": {},
   "source": [
    "<b>Exercise 7: </b> Suppose we see another tank with serial number 17. What effect does this have on the posterior probabilities?Update the suite again with the new data and plot the results."
   ]
  },
  {
   "cell_type": "code",
   "execution_count": 130,
   "metadata": {
    "collapsed": false
   },
   "outputs": [
    {
     "data": {
      "text/plain": [
       "57.81472076260487"
      ]
     },
     "execution_count": 130,
     "metadata": {},
     "output_type": "execute_result"
    },
    {
     "data": {
      "image/png": "[encoded data removed]",
      "text/plain": [
       "<matplotlib.figure.Figure at 0x23c85e1d1d0>"
      ]
     },
     "metadata": {},
     "output_type": "display_data"
    }
   ],
   "source": [
    "tank.Update(17)\n",
    "tank.pdf()\n",
    "tank.Mean()"
   ]
  },
  {
   "cell_type": "markdown",
   "metadata": {},
   "source": [
    "The fact that i saw 17 does not influence much the things that are on the left of 37 but it does influence the right side a, all the high numbers they all have gone down a little bit and my belief in 37 has gotten a little bit stronger.Same thing happened with the 12-sided dice in the previous problem because if it were the 12-sided dice it would be unlikely to see low numbers over and over again .Same thing here if the germens had made 99 tanks, it wud be a little surprising to get 17 and 37 and nothing higher than 50.\n",
    "\n",
    "Let's say they captured tank no.85"
   ]
  },
  {
   "cell_type": "code",
   "execution_count": 131,
   "metadata": {
    "collapsed": false
   },
   "outputs": [
    {
     "data": {
      "text/plain": [
       "91.39135260236333"
      ]
     },
     "execution_count": 131,
     "metadata": {},
     "output_type": "execute_result"
    },
    {
     "data": {
      "image/png": "[encoded data removed]",
      "text/plain": [
       "<matplotlib.figure.Figure at 0x23c84cebc50>"
      ]
     },
     "metadata": {},
     "output_type": "display_data"
    }
   ],
   "source": [
    "tank.Update(85)\n",
    "tank.pdf()\n",
    "tank.Mean()"
   ]
  },
  {
   "cell_type": "markdown",
   "metadata": {},
   "source": [
    "The confidence we have in these numbers depends roughly on the width of the distribution.It it were a wide distribution with almost equal probability for number from 1 to 100 in bayesian it mean \"I dont know\". But if it is narrow it means we are confident that it falls in this range.There is a metric for that it is called \"entropy\"."
   ]
  },
  {
   "cell_type": "markdown",
   "metadata": {},
   "source": [
    "## The Euro problem -- Estimating proportions\n",
    "This comes from when Euro coin was first introduced.\n",
    "\"When spun on edge 250 times , A Belgian one-euro coin came up heads 140 times and tails 110.'This looks very suspicious to me'said Barry Blight, a stats lecturer at the LSB. 'If the coin were unbiased, the chance of getting a result as extreme as that would be less than 7%\".\n",
    "\n",
    "Assume that the coin has probability x of landing heads.\n",
    "Based on the data (140 heads, 110 tails) what is x?\n",
    "\n",
    "We are talking probability or probabilities. Forget that x is probability; just think of it as a physical characteristic.\n",
    "\n",
    "<b>Exercise 8:</b> Write a class definition for Euro, which extends Suite and defines a likelihood function that computes the probability of the data (heads or tails) for a given value of x (the probability of heads)."
   ]
  },
  {
   "cell_type": "code",
   "execution_count": 159,
   "metadata": {
    "collapsed": false
   },
   "outputs": [],
   "source": [
    "class Euro():\n",
    "        # hypo is the prob of heads(0-100)       \n",
    "        def __init__(self, hypo):\n",
    "            self.hypo_dic = {}\n",
    "            for x in hypo:\n",
    "               self.hypo_dic[x] = 1/100\n",
    "            return\n",
    "        \n",
    "        def Likelihood(self, data, hypo):\n",
    "            \"\"\" \n",
    "            hypo is the prob of heads (0-100)\n",
    "            data is a string, either 'H' or 'T'\n",
    "            \"\"\"\n",
    "            x = hypo / 100\n",
    "            if data == 'H':\n",
    "                return x\n",
    "            else:\n",
    "                return 1-x\n",
    "            \n",
    "        def Update(self, data):\n",
    "            \n",
    "            for hypo,_ in self.hypo_dic.items():\n",
    "                like = self.Likelihood(data, hypo)\n",
    "                self.hypo_dic[hypo] *= like \n",
    "                \n",
    "            total_prob = sum(self.hypo_dic.values()) \n",
    "            \n",
    "            for hypo,_ in self.hypo_dic.items():\n",
    "                 self.hypo_dic[hypo] /= total_prob         \n",
    "            return self\n",
    "        \n",
    "        def Print(self):\n",
    "            for hypo,value in self.hypo_dic.items():\n",
    "                print(\"Hypothesis : \"+str(hypo)+\"  value : \",value)\n",
    "        \n",
    "        def pdf(self):\n",
    "            plt.plot(list(self.hypo_dic.keys()), list(self.hypo_dic.values()))\n",
    "        \n",
    "        def Mean(self):\n",
    "            return sum(p * x for x, p in self.hypo_dic.items())\n",
    "        \n",
    "        def MaximumLikelihood(self):\n",
    "            _, val = max((p, x) for x, p in self.hypo_dic.items())\n",
    "            return val\n",
    "        \n",
    "        def CredibleInterval(self):\n",
    "             percentage = 90 # 90% CI\n",
    "             prob = (1 - percentage / 100) / 2\n",
    "             l1 = 0\n",
    "             l2 = 0\n",
    "             for x, p in self.hypo_dic.items():\n",
    "                 if p == prob :\n",
    "                    l1 = x\n",
    "                 if p == (1-prob) :\n",
    "                    l2 = x\n",
    "             return l1,l2"
   ]
  },
  {
   "cell_type": "code",
   "execution_count": 134,
   "metadata": {
    "collapsed": false
   },
   "outputs": [
    {
     "data": {
      "image/png": "[encoded data removed]",
      "text/plain": [
       "<matplotlib.figure.Figure at 0x23c84cb8c50>"
      ]
     },
     "metadata": {},
     "output_type": "display_data"
    }
   ],
   "source": [
    "euro = Euro(range(101))\n",
    "euro.pdf()"
   ]
  },
  {
   "cell_type": "code",
   "execution_count": 135,
   "metadata": {
    "collapsed": false,
    "scrolled": true
   },
   "outputs": [
    {
     "data": {
      "image/png": "[encoded data removed]",
      "text/plain": [
       "<matplotlib.figure.Figure at 0x23c84d86748>"
      ]
     },
     "metadata": {},
     "output_type": "display_data"
    }
   ],
   "source": [
    "# we get a single Head\n",
    "euro.Update('H')\n",
    "euro.pdf()"
   ]
  },
  {
   "cell_type": "markdown",
   "metadata": {},
   "source": [
    "The probability that x=0 has zero probbaility now that we have seen a Head. We has eliminated that possibility."
   ]
  },
  {
   "cell_type": "code",
   "execution_count": 136,
   "metadata": {
    "collapsed": false
   },
   "outputs": [
    {
     "data": {
      "image/png": "[encoded data removed]",
      "text/plain": [
       "<matplotlib.figure.Figure at 0x23c84ca29b0>"
      ]
     },
     "metadata": {},
     "output_type": "display_data"
    }
   ],
   "source": [
    "# we get another Head\n",
    "euro.Update('H')\n",
    "euro.pdf()"
   ]
  },
  {
   "cell_type": "markdown",
   "metadata": {},
   "source": [
    "This is a parabola ..higher numbers 80-90 are more likely."
   ]
  },
  {
   "cell_type": "code",
   "execution_count": 137,
   "metadata": {
    "collapsed": false
   },
   "outputs": [
    {
     "data": {
      "image/png": "[encoded data removed]",
      "text/plain": [
       "<matplotlib.figure.Figure at 0x23c84ddc9b0>"
      ]
     },
     "metadata": {},
     "output_type": "display_data"
    }
   ],
   "source": [
    "# we get a Tail\n",
    "euro.Update('T')\n",
    "euro.pdf()"
   ]
  },
  {
   "cell_type": "markdown",
   "metadata": {},
   "source": [
    "Now that i have seen a tail it is not possible for the probability of heads to be a 100 percent ..so we see that the probability of 100 has been reduced to zero.Most likely value is 66% (2/3 which is the observed proportion of heads).Width of this curve tells us how confident we are.The distribution is wide, that means we are not that confident.The width of the curve is proportion to the square-root of n and not n."
   ]
  },
  {
   "cell_type": "code",
   "execution_count": 142,
   "metadata": {
    "collapsed": false
   },
   "outputs": [
    {
     "data": {
      "text/plain": [
       "70"
      ]
     },
     "execution_count": 142,
     "metadata": {},
     "output_type": "execute_result"
    },
    {
     "data": {
      "image/png": "[encoded data removed]",
      "text/plain": [
       "<matplotlib.figure.Figure at 0x23c84cb8358>"
      ]
     },
     "metadata": {},
     "output_type": "display_data"
    }
   ],
   "source": [
    "euro = Euro(range(101))\n",
    "\n",
    "for outcome in 'HHHHHHHTTT':\n",
    "    euro.Update(outcome)\n",
    "\n",
    "euro.pdf()\n",
    "euro.MaximumLikelihood()"
   ]
  },
  {
   "cell_type": "markdown",
   "metadata": {},
   "source": [
    "The maximum posterior probability is 70%, which is the observed proportion. ==>Maximum likelihood (Mode)"
   ]
  },
  {
   "cell_type": "code",
   "execution_count": 160,
   "metadata": {
    "collapsed": false
   },
   "outputs": [
    {
     "data": {
      "image/png": "[encoded data removed]",
      "text/plain": [
       "<matplotlib.figure.Figure at 0x23c861a9be0>"
      ]
     },
     "metadata": {},
     "output_type": "display_data"
    }
   ],
   "source": [
    "#Here are the posterior probabilities after 140 heads and 110 tails.\n",
    "euro = Euro(range(101))\n",
    "\n",
    "for outcome in 'H' * 140 + 'T' * 110:\n",
    "    euro.Update(outcome)\n",
    "euro.pdf()"
   ]
  },
  {
   "cell_type": "code",
   "execution_count": 145,
   "metadata": {
    "collapsed": false
   },
   "outputs": [
    {
     "data": {
      "text/plain": [
       "55.95238095238094"
      ]
     },
     "execution_count": 145,
     "metadata": {},
     "output_type": "execute_result"
    }
   ],
   "source": [
    "euro.Mean()"
   ]
  },
  {
   "cell_type": "code",
   "execution_count": 146,
   "metadata": {
    "collapsed": false
   },
   "outputs": [
    {
     "data": {
      "text/plain": [
       "56"
      ]
     },
     "execution_count": 146,
     "metadata": {},
     "output_type": "execute_result"
    }
   ],
   "source": [
    "euro.MaximumLikelihood()"
   ]
  },
  {
   "cell_type": "markdown",
   "metadata": {},
   "source": [
    "The posterior <font color='red'> credible interval </font>has 90% chance of containing the true value (provided that the prior distribution truly represents our background knowledge).In classical statistics it is a <b> forbidden </b>thing to say that the <font color='red'> confidence interval </font> has 90% probability of containing the true value.\n",
    "   \n",
    "    For example, when constructing a standard 95% bound about a parameter θ: • A Bayesian would say: “Given our observed data, there is a 95% probability that the true value of θ lies within the credible region”. • A frequentist would say: “If this experiment is repeated many times, in 95% of these cases the computed conﬁdence interval will contain the true θ.”"
   ]
  },
  {
   "cell_type": "markdown",
   "metadata": {},
   "source": [
    "Barry Blight, a stats lecturer at the LSB. 'If the coin were unbiased, the chance of getting a result as extreme as that would be less than 7%\". This was based on p-value 7% was borderline statistically significant.\n",
    "There are two bayesian responses to that -\n",
    "1) If you really want to hypothesis testing, you can do bayesian hypothesis testing and find out if the coin is fair.\n",
    "2) But try to make binary decisions about the world..just say look this what i found out about the coin.. having seen the data this distribution represents my knowledge of the coin. If you want to know the probability of heads for the next coin toss, I can answer that."
   ]
  },
  {
   "cell_type": "markdown",
   "metadata": {},
   "source": [
    "One of the nice things of about Bayes is that the posterior distribution gives the natural interpretation of probability that you want.However there is a price to pay - the prior.\n",
    "\n",
    "We chose it arbitrarily, and reasonable people might disagree.\n",
    "\n",
    "Is X as likely to be 1% as 50%?\n",
    "\n",
    "Given what we know about coins, we doubt it.\n",
    "\n",
    "So uniform prior was not a really good choice.\n",
    "\n",
    "How should we capture background knowledge about coins ? It is called an informative prior.\n",
    "Try a triangular prior.50-50 is pretty likely and values close 50 are also somewhat likely and 0 and 100 are impossible.\n",
    "But when i pick my prior i should not implicitly use my data, I am allowed to use the things i know in life(physical model of coins).I can run the analysis with different priors, but will end up with pretty much the same posterior(not exactly the same though) if all of them started with something reasonable(u cant start with zero lest you end up with zero) .\n",
    "\n",
    "Swamp the prior<br>\n",
    "With enough data, reasonable people will converge if there is enough data. If any p(H) = 0, no data will change that.Priors can be arbitrarily low but avoid 0. See Cromwell's rule :\n",
    "\n",
    "       \" I beseech you, in the bowels of Christ, think it possible that you may be mistaken\"\n",
    "In small data scenario, we have to try out different priors. "
   ]
  },
  {
   "cell_type": "code",
   "execution_count": 173,
   "metadata": {
    "collapsed": false
   },
   "outputs": [],
   "source": [
    "#pdf formula for triangular distributions from https://en.wikipedia.org/wiki/Triangular_distribution \n",
    "\n",
    "class Euro_tri():\n",
    "        # hypo is the prob of heads(0-100)       \n",
    "        def __init__(self, hypo):\n",
    "            self.hypo_dic = {}\n",
    "            for x in range(0, 101):\n",
    "                if x in [0,100]:\n",
    "                    self.hypo_dic[x] = 0\n",
    "                elif x == 50:\n",
    "                    self.hypo_dic[x] = 1/x\n",
    "                elif x in range(1,51):\n",
    "                    self.hypo_dic[x] = x/2500    \n",
    "                else:\n",
    "                    self.hypo_dic[x] = (100 - x)/2500\n",
    "            return\n",
    "        \n",
    "        def Likelihood(self, data, hypo):\n",
    "            \"\"\" \n",
    "            hypo is the prob of heads (0-100)\n",
    "            data is a string, either 'H' or 'T'\n",
    "            \"\"\"\n",
    "            x = hypo / 100\n",
    "            if data == 'H':\n",
    "                return x\n",
    "            else:\n",
    "                return 1-x\n",
    "            \n",
    "        def Update(self, data):\n",
    "            \n",
    "            for hypo,_ in self.hypo_dic.items():\n",
    "                like = self.Likelihood(data, hypo)\n",
    "                self.hypo_dic[hypo] *= like \n",
    "                \n",
    "            total_prob = sum(self.hypo_dic.values()) \n",
    "            \n",
    "            for hypo,_ in self.hypo_dic.items():\n",
    "                 self.hypo_dic[hypo] /= total_prob         \n",
    "            return self\n",
    "        \n",
    "        def Print(self):\n",
    "            for hypo,value in self.hypo_dic.items():\n",
    "                print(\"Hypothesis : \"+str(hypo)+\"  value : \",value)\n",
    "        \n",
    "        def pdf(self):\n",
    "            plt.plot(list(self.hypo_dic.keys()), list(self.hypo_dic.values()))\n",
    "        \n",
    "        def Mean(self):\n",
    "            return sum(p * x for x, p in self.hypo_dic.items())\n",
    "        \n",
    "        def MaximumLikelihood(self):\n",
    "            _, val = max((p, x) for x, p in self.hypo_dic.items())\n",
    "            return val"
   ]
  },
  {
   "cell_type": "code",
   "execution_count": 174,
   "metadata": {
    "collapsed": false,
    "scrolled": true
   },
   "outputs": [
    {
     "data": {
      "image/png": "[encoded data removed]",
      "text/plain": [
       "<matplotlib.figure.Figure at 0x23c85f7a2e8>"
      ]
     },
     "metadata": {},
     "output_type": "display_data"
    }
   ],
   "source": [
    "euro = Euro_tri(range(101))\n",
    "euro.pdf()"
   ]
  },
  {
   "cell_type": "code",
   "execution_count": 178,
   "metadata": {
    "collapsed": false
   },
   "outputs": [
    {
     "data": {
      "image/png": "[encoded data removed]",
      "text/plain": [
       "<matplotlib.figure.Figure at 0x23c84add080>"
      ]
     },
     "metadata": {},
     "output_type": "display_data"
    }
   ],
   "source": [
    "#Here are the posterior probabilities after 140 heads and 110 tails.\n",
    "euro = Euro_tri(range(101))\n",
    "\n",
    "for outcome in 'H' * 140 + 'T' * 110:\n",
    "    euro.Update(outcome)\n",
    "euro.pdf()"
   ]
  },
  {
   "cell_type": "code",
   "execution_count": 179,
   "metadata": {
    "collapsed": false
   },
   "outputs": [
    {
     "data": {
      "text/plain": [
       "56"
      ]
     },
     "execution_count": 179,
     "metadata": {},
     "output_type": "execute_result"
    }
   ],
   "source": [
    "euro.MaximumLikelihood()"
   ]
  },
  {
   "cell_type": "code",
   "execution_count": 180,
   "metadata": {
    "collapsed": false
   },
   "outputs": [
    {
     "data": {
      "text/plain": [
       "55.74349943859508"
      ]
     },
     "execution_count": 180,
     "metadata": {},
     "output_type": "execute_result"
    }
   ],
   "source": [
    "euro.Mean()"
   ]
  },
  {
   "cell_type": "markdown",
   "metadata": {},
   "source": [
    "So we ended up with almost the same distribution though we used a different prior."
   ]
  },
  {
   "cell_type": "markdown",
   "metadata": {},
   "source": [
    "## World Cup Problem\n",
    "In the 2014 FIFA World Cup , Germany played Brazil in the semifinal match.Germany scored after 11 minutes and agin at the 23 minute mark.At that point in the match, how many goals would you expect Germany to score after 90 minutes?\n",
    "\n",
    "What was the probability that they would score 5 more goals(as, in fact, they did)? Or can you make a Bayesian update to predict how many more goals the Germans will score?"
   ]
  },
  {
   "cell_type": "markdown",
   "metadata": {},
   "source": [
    "Model goal scoring using a Poisson process :\n",
    "\n",
    "When modelling the real world we have to always make simplifications .. what can i leave and what should be included.Here we will model goal scoring using a Poisson process. If it is a Poisson process, a goal is equally likely at pretty much any time during the game. Each team will have a goal scoring rate and chance of scoring during any given time interval is the same.\n",
    "\n",
    "Poisson process :\n",
    "\n",
    "- Events are equally likely to occur at any time.\n",
    "- Arrival rate is λ events/time-unit.\n",
    "- Time between events has an exponential distribution.\n",
    "- Number of events in a given time has Poisson distribution \n",
    "\n",
    "Estimation :\n",
    "\n",
    "- Use the first two goals to estimate  λ in goals/game\n",
    "- Use the posterior distribution of  λ to make predictions \n",
    "\n",
    "Get Bayesian :\n",
    "\n",
    "What are the parameters?\n",
    "\n",
    "    The goal scoring rate  λ in goals per game\n",
    "\n",
    "what are the hypotheses?\n",
    "   \n",
    "    A ramge of possible values for λ.( can range from zero goals per game to a hundred or a thousnd, there is no real upper bound)\n",
    "\n",
    "What is the prior?\n",
    "\n",
    "    Ask experts/stats from previous games . Gamma distribution with mean based on previous games \n",
    "\n",
    "We'll use λ to represent the hypothetical goal-scoring rate in goals per game.\n",
    "\n",
    "To compute prior probabilities for values of λ, I'll use a Gamma distribution.\n",
    "The mean is 1.3, which is the average number of goals per team per game in World Cup play.\n"
   ]
  },
  {
   "cell_type": "markdown",
   "metadata": {},
   "source": [
    "<b>Exercise 9:</b> Write a class called Soccer that extends Suite and defines Likelihood, which should compute the probability of the data (the time between goals in minutes) for a hypothetical goal-scoring rate, lam, in goals per game.\n",
    "Hint: For a given value of lam, the time between goals is distributed exponentially."
   ]
  },
  {
   "cell_type": "code",
   "execution_count": 34,
   "metadata": {
    "collapsed": false
   },
   "outputs": [],
   "source": [
    "class Soccer():\n",
    "        \"\"\"Represents hypotheses about goal-scoring rates.\"\"\"\n",
    "        def __init__(self, xs, a):\n",
    "            self.hypo_dic = {}\n",
    "            xs = np.asarray(xs)\n",
    "            ps = xs**(a-1) * np.exp(-xs) / gamma(a)\n",
    "            ps = np.asarray(ps)\n",
    "            total_prob = sum(ps)\n",
    "            ps /= total_prob\n",
    "            self.hypo_dic = dict(zip(xs, ps))\n",
    "            return \n",
    "        \n",
    "        def Likelihood(self, data, hypo):\n",
    "            \"\"\"Computes the likelihood of the data under the hypothesis.\n",
    "\n",
    "            hypo: scoring rate in goals per game\n",
    "            data: interarrival time in minutes\n",
    "            each game is 90 minutes\n",
    "            \"\"\"\n",
    "            x = data / 90\n",
    "            lam = hypo\n",
    "            like = lam * math.exp(-lam * x)\n",
    "            return like\n",
    "            \n",
    "        def Update(self, data):\n",
    "            \n",
    "            for hypo,_ in self.hypo_dic.items():\n",
    "                like = self.Likelihood(data, hypo)\n",
    "                self.hypo_dic[hypo] *= like \n",
    "                \n",
    "            total_prob = sum(self.hypo_dic.values()) \n",
    "            \n",
    "            for hypo,_ in self.hypo_dic.items():\n",
    "                 self.hypo_dic[hypo] /= total_prob         \n",
    "            return self\n",
    "        \n",
    "        def Print(self):\n",
    "            for hypo,value in self.hypo_dic.items():\n",
    "                print(\"Hypothesis : \"+str(hypo)+\"  value : \",value)\n",
    "        \n",
    "        def pdf(self):\n",
    "            plt.scatter(list(self.hypo_dic.keys()), list(self.hypo_dic.values()))\n",
    "            plt.ylim(0,0.05)\n",
    "            plt.xlim(0,8)\n",
    "            plt.xlabel('Goals per game')\n",
    "        \n",
    "        def Mean(self):\n",
    "            return sum(p * x for x, p in self.hypo_dic.items())\n",
    "        \n",
    "        def MaximumLikelihood(self):\n",
    "            _, val = max((p, x) for x, p in self.hypo_dic.items())\n",
    "            return val"
   ]
  },
  {
   "cell_type": "code",
   "execution_count": 35,
   "metadata": {
    "collapsed": false
   },
   "outputs": [
    {
     "data": {
      "image/png": "[encoded data removed]",
      "text/plain": [
       "<matplotlib.figure.Figure at 0x29dcd6eae48>"
      ]
     },
     "metadata": {},
     "output_type": "display_data"
    }
   ],
   "source": [
    "xs = np.linspace(0, 8, 101)\n",
    "soccer = Soccer(xs, 1.3)\n",
    "soccer.pdf()"
   ]
  },
  {
   "cell_type": "code",
   "execution_count": 36,
   "metadata": {
    "collapsed": false
   },
   "outputs": [
    {
     "data": {
      "text/plain": [
       "1.3103599490022575"
      ]
     },
     "execution_count": 36,
     "metadata": {},
     "output_type": "execute_result"
    }
   ],
   "source": [
    "soccer.Mean()"
   ]
  },
  {
   "cell_type": "code",
   "execution_count": 37,
   "metadata": {
    "collapsed": false
   },
   "outputs": [
    {
     "data": {
      "text/plain": [
       "2.035267756093734"
      ]
     },
     "execution_count": 37,
     "metadata": {},
     "output_type": "execute_result"
    },
    {
     "data": {
      "image/png": "[encoded data removed]",
      "text/plain": [
       "<matplotlib.figure.Figure at 0x29dcd4e8a20>"
      ]
     },
     "metadata": {},
     "output_type": "display_data"
    }
   ],
   "source": [
    "soccer.Update(11)\n",
    "soccer.pdf()\n",
    "soccer.Mean()"
   ]
  },
  {
   "cell_type": "markdown",
   "metadata": {},
   "source": [
    "This means that having seen goal early in the game we are more inclined to believe in high values of λ."
   ]
  },
  {
   "cell_type": "code",
   "execution_count": 38,
   "metadata": {
    "collapsed": false
   },
   "outputs": [
    {
     "data": {
      "text/plain": [
       "2.6029902257702697"
      ]
     },
     "execution_count": 38,
     "metadata": {},
     "output_type": "execute_result"
    },
    {
     "data": {
      "image/png": "[encoded data removed]",
      "text/plain": [
       "<matplotlib.figure.Figure at 0x29dcc4cd9e8>"
      ]
     },
     "metadata": {},
     "output_type": "display_data"
    }
   ],
   "source": [
    "#Here's the update after the second goal at 23 minutes (the time between first and second goals is 12 minutes).\n",
    "soccer.Update(12)\n",
    "soccer.pdf()\n",
    "soccer.Mean()"
   ]
  },
  {
   "cell_type": "markdown",
   "metadata": {},
   "source": [
    "This distribution represents our belief about lam after two goals."
   ]
  },
  {
   "cell_type": "markdown",
   "metadata": {},
   "source": [
    "Distribution has shifted to the right now 2 is the most likely value and 5 is not all that surprising anymore. "
   ]
  },
  {
   "cell_type": "markdown",
   "metadata": {},
   "source": [
    "### Estimating the predictive distribution\n",
    "\n",
    "Now to predict the number of goals in the remaining 67 minutes. \n",
    "Given λ, the expected number of goals is Poisson.WE don't know  λ, but we know a range of possible values and their probabilities.\n",
    "\n",
    "Option 1 : Use the posterior mean value of  λ (2.6) and compute a Poisson distribution that takes into account the remaining time in the game (Simple , but not Correct)\n",
    "\n",
    "Option 2 : Make a mixure of Poisson distributions for all possible values of  λ. (this reflects my uncertainy about  λ)\n",
    "\n",
    "There are two sources of uncertainty:\n",
    "We don't know the true value of λ.\n",
    "Even if we did we wouldn't know how many goals would be scored.\n",
    "We can quantify both sources of uncertainty at the same time, like this:\n",
    "Choose a random values from the posterior distribution of λ.\n",
    "Use the chosen value to generate a random number of goals.\n",
    "If we run these steps many times, we can estimate the distribution of goals scored."
   ]
  },
  {
   "cell_type": "code",
   "execution_count": null,
   "metadata": {
    "collapsed": true
   },
   "outputs": [],
   "source": []
  }
 ],
 "metadata": {
  "anaconda-cloud": {},
  "kernelspec": {
   "display_name": "Python [conda root]",
   "language": "python",
   "name": "conda-root-py"
  },
  "language_info": {
   "codemirror_mode": {
    "name": "ipython",
    "version": 3
   },
   "file_extension": ".py",
   "mimetype": "text/x-python",
   "name": "python",
   "nbconvert_exporter": "python",
   "pygments_lexer": "ipython3",
   "version": "3.5.2"
  }
 },
 "nbformat": 4,
 "nbformat_minor": 1
}
